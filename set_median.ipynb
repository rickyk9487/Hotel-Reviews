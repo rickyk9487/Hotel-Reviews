{
 "metadata": {
  "name": "",
  "signature": "sha256:d31d1369e324bc96d30a1ed50d33966361f7ba2f42fa61ea6c6179a9e4b50ef6"
 },
 "nbformat": 3,
 "nbformat_minor": 0,
 "worksheets": [
  {
   "cells": [
    {
     "cell_type": "code",
     "collapsed": false,
     "input": [
      "import pandas as pd\n",
      "import sqlite3 as lite\n",
      "import numpy as np\n",
      "from scipy.spatial.distance import pdist, squareform\n",
      "import matplotlib.pyplot as plt\n",
      "% matplotlib inline\n",
      "# connect to database and load all the tables into separate dataframes\n",
      "conn = lite.connect(\"../hotels.db\")\n",
      "weight = pd.read_sql(\"SELECT * FROM Aspect_weight;\", conn)\n",
      "key = pd.read_sql(\"SELECT * FROM Key;\", conn)\n",
      "rating = pd.read_sql(\"SELECT * FROM Rating_filled;\", conn)\n",
      "hinfo = pd.read_sql(\"SELECT * FROM H_info;\", conn) # contains averages for ratings\n",
      "cities = pd.read_sql(\"select distinct(location) from H_info;\", conn).values\n",
      "\n",
      "# Warning, vocab and review are heavy on memory\n",
      "# vocab = pd.read_sql(\"SELECT * FROM Aspect_vocab;\", conn)\n",
      "# review = pd.read_sql(\"SELECT * FROM Review;\", conn)\n",
      "# conn.close()  "
     ],
     "language": "python",
     "metadata": {},
     "outputs": [],
     "prompt_number": 13
    },
    {
     "cell_type": "code",
     "collapsed": false,
     "input": [
      "print hinfo.head()\n",
      "# print rating.groupby(['location']).median()\n",
      "# cur.execute()\n",
      "columns = ['avgO', 'avgV', 'avgR', 'avgL', 'avgC']\n",
      "# df_item_avg = df[['item_id', 'rating']].groupby(by='item_id').mean()\n",
      "hinfo_median_loc = hinfo.groupby(by='location').median()\n",
      "print hinfo_median_loc.head()"
     ],
     "language": "python",
     "metadata": {},
     "outputs": [
      {
       "output_type": "stream",
       "stream": "stdout",
       "text": [
        "   hotel_id  price            location      avgO      avgV      avgR  \\\n",
        "0     72572    173  Seattle_Washington  4.028169  3.901408  4.000000   \n",
        "1     72579    147  Seattle_Washington  3.117647  3.294118  3.323529   \n",
        "2     72586    172  Seattle_Washington  3.377778  3.600000  3.444444   \n",
        "3     73718    162     Phoenix_Arizona  3.115385  3.153846  3.115385   \n",
        "4     73727    137     Phoenix_Arizona  3.086957  3.347826  2.869565   \n",
        "\n",
        "       avgL      avgC  \n",
        "0  4.126761  4.295775  \n",
        "1  3.382353  3.588235  \n",
        "2  3.688889  3.777778  \n",
        "3  3.115385  3.153846  \n",
        "4  3.565217  3.391304  \n",
        "                         hotel_id  price      avgO      avgV      avgR  \\\n",
        "location                                                                 \n",
        "Amsterdam_Noord_Holland  236069.5    203  3.734100  3.644130  3.630470   \n",
        "Anasco_Puerto_Rico       242226.0    290  3.573770  3.491803  3.467213   \n",
        "Bali                     304757.5    469  4.580596  4.433664  4.531704   \n",
        "Barcelona_Catalonia      239541.5    214  3.937782  3.940534  3.903600   \n",
        "Beijing                  632911.5    123  4.186275  4.209384  4.388095   \n",
        "\n",
        "                             avgL      avgC  \n",
        "location                                     \n",
        "Amsterdam_Noord_Holland  4.066253  4.000000  \n",
        "Anasco_Puerto_Rico       3.647541  3.631148  \n",
        "Bali                     4.486504  4.629488  \n",
        "Barcelona_Catalonia      4.130301  4.260345  \n",
        "Beijing                  4.092500  4.445294  \n"
       ]
      }
     ],
     "prompt_number": 20
    },
    {
     "cell_type": "code",
     "collapsed": false,
     "input": [],
     "language": "python",
     "metadata": {},
     "outputs": []
    }
   ],
   "metadata": {}
  }
 ]
}